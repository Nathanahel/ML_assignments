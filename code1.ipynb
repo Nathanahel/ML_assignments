{
 "cells": [
  {
   "cell_type": "code",
   "execution_count": 25,
   "metadata": {},
   "outputs": [],
   "source": [
    "import numpy as np\n",
    "import os"
   ]
  },
  {
   "cell_type": "code",
   "execution_count": 26,
   "metadata": {},
   "outputs": [],
   "source": [
    "# read in the paths for every .txt file\n",
    "filepaths = []\n",
    "for root, dirs, files in os.walk(os.getcwd()+\"/review_polarity_full/txt_sentoken/\"):\n",
    "    for file in files:\n",
    "        if os.path.splitext(file)[1] == '.txt':\n",
    "                filepaths.append(os.path.join(root, file))"
   ]
  },
  {
   "cell_type": "code",
   "execution_count": 27,
   "metadata": {
    "scrolled": true
   },
   "outputs": [],
   "source": [
    "X_raw = list()\n",
    "y = list()\n",
    "\n",
    "for filepath in filepaths:\n",
    "    \n",
    "    if \"pos\" in filepath:\n",
    "        with open(filepath, \"r\") as f:\n",
    "            X_raw.append(f.read())\n",
    "        y.append(1)\n",
    "\n",
    "    if \"neg\" in filepath:\n",
    "        with open(filepath, \"r\") as f:\n",
    "            X_raw.append(f.read())\n",
    "        y.append(-1)\n",
    "y = np.array(y)"
   ]
  },
  {
   "cell_type": "code",
   "execution_count": 28,
   "metadata": {},
   "outputs": [],
   "source": [
    "all_words = []\n",
    "words_per_file = []\n",
    "for review in X_raw:\n",
    "    words = []\n",
    "    tokens = review.split(\" \")\n",
    "    for token in tokens:\n",
    "        all_words.append(token.strip(\"\\n\"))\n",
    "        words.append(token.strip(\"\\n\"))\n",
    "    words_per_file.append(words)"
   ]
  },
  {
   "cell_type": "code",
   "execution_count": 29,
   "metadata": {},
   "outputs": [
    {
     "data": {
      "text/plain": [
       "50921"
      ]
     },
     "execution_count": 29,
     "metadata": {},
     "output_type": "execute_result"
    }
   ],
   "source": [
    "vocab = sorted(list(set(all_words)))\n",
    "len(vocab)"
   ]
  },
  {
   "cell_type": "code",
   "execution_count": 13,
   "metadata": {},
   "outputs": [],
   "source": [
    "X = []\n",
    "for review in words_per_file:\n",
    "    bow_vector = np.zeros(len(vocab))\n",
    "    for word in review:\n",
    "        for i, voc in enumerate(vocab):\n",
    "            if voc == word:\n",
    "                bow_vector[i] = 1\n",
    "    X.append(bow_vector)\n",
    "X = np.array(X)\n",
    "np.savetxt('X_matrix.txt', X, fmt='%d')"
   ]
  },
  {
   "cell_type": "code",
   "execution_count": 6,
   "metadata": {},
   "outputs": [
    {
     "name": "stdout",
     "output_type": "stream",
     "text": [
      "(2000, 50921)\n"
     ]
    }
   ],
   "source": [
    "X = np.loadtxt(\"X_matrix.txt\")\n",
    "\n",
    "print(np.shape(X))"
   ]
  },
  {
   "cell_type": "code",
   "execution_count": 1,
   "metadata": {},
   "outputs": [
    {
     "ename": "NameError",
     "evalue": "name 'X' is not defined",
     "output_type": "error",
     "traceback": [
      "\u001b[0;31m---------------------------------------------------------------------------\u001b[0m",
      "\u001b[0;31mNameError\u001b[0m                                 Traceback (most recent call last)",
      "\u001b[0;32m<ipython-input-1-af4cf424c741>\u001b[0m in \u001b[0;36m<module>\u001b[0;34m\u001b[0m\n\u001b[0;32m----> 1\u001b[0;31m \u001b[0mX\u001b[0m \u001b[0;34m=\u001b[0m \u001b[0mX\u001b[0m\u001b[0;34m.\u001b[0m\u001b[0mT\u001b[0m\u001b[0;34m\u001b[0m\u001b[0;34m\u001b[0m\u001b[0m\n\u001b[0m\u001b[1;32m      2\u001b[0m \u001b[0mprint\u001b[0m\u001b[0;34m(\u001b[0m\u001b[0mnp\u001b[0m\u001b[0;34m.\u001b[0m\u001b[0mshape\u001b[0m\u001b[0;34m(\u001b[0m\u001b[0mX\u001b[0m\u001b[0;34m)\u001b[0m\u001b[0;34m)\u001b[0m\u001b[0;34m\u001b[0m\u001b[0;34m\u001b[0m\u001b[0m\n\u001b[1;32m      3\u001b[0m \u001b[0mprint\u001b[0m\u001b[0;34m(\u001b[0m\u001b[0mnp\u001b[0m\u001b[0;34m.\u001b[0m\u001b[0mshape\u001b[0m\u001b[0;34m(\u001b[0m\u001b[0mX\u001b[0m\u001b[0;34m[\u001b[0m\u001b[0;36m0\u001b[0m\u001b[0;34m]\u001b[0m\u001b[0;34m)\u001b[0m\u001b[0;34m)\u001b[0m\u001b[0;34m\u001b[0m\u001b[0;34m\u001b[0m\u001b[0m\n",
      "\u001b[0;31mNameError\u001b[0m: name 'X' is not defined"
     ]
    }
   ],
   "source": [
    "X = X.T\n",
    "print(np.shape(X))\n",
    "print(np.shape(X[0]))"
   ]
  },
  {
   "cell_type": "code",
   "execution_count": 152,
   "metadata": {
    "pycharm": {
     "name": "#%%\n"
    }
   },
   "outputs": [
    {
     "name": "stdout",
     "output_type": "stream",
     "text": [
      "1\n"
     ]
    }
   ],
   "source": []
  },
  {
   "cell_type": "code",
   "execution_count": 153,
   "metadata": {
    "pycharm": {
     "name": "#%%\n"
    }
   },
   "outputs": [],
   "source": [
    "class GDClassifier:\n",
    "\n",
    "    def __init__(self, learning_rate=0.1, epoch=5, batch=100, l=0.001):\n",
    "        self.learning_rate = learning_rate\n",
    "        self.epoch = epoch\n",
    "        self.batch = batch\n",
    "        self.l = l\n",
    "        \n",
    "    def fit(self, X, y):\n",
    "        w = np.random.normal(0, 1, (np.size(X, 0), 1))\n",
    "        X_train = X[:, 0:int(np.size(X, 1) * 0.8)]\n",
    "        y_train = y[0:int(np.size(X, 1) * 0.8)]\n",
    "\n",
    "        X_test = X[:, int(np.size(X, 1) * 0.8):]\n",
    "        y_test = y[int(np.size(X, 1) * 0.8):]\n",
    "\n",
    "        for i in range(self.epoch):\n",
    "            for j in range(np.size(X_train, 1)//self.batch):\n",
    "                j_start = self.batch * j\n",
    "                j_end = self.batch * (j+1)\n",
    "                X_batch = X[:, j_start:j_end]\n",
    "                y_batch = y[j_start:j_end]\n",
    "\n",
    "                grad_w = self._compute_gradient(X_batch, y_batch, w, self.l)\n",
    "                w -= self.learning_rate * grad_w\n",
    "\n",
    "            train_loss = self._loss(X_train, y_train, w)\n",
    "            test_acc = self.score(X_test, y_test, w)\n",
    "            print(f\"Train loss is {train_loss} at epoch {i+1}\")\n",
    "            print(f\"Test accuracy is {test_acc} at epoch {i+1}\")\n",
    "            print()\n",
    "\n",
    "    def predict(self, X, w):\n",
    "        result = np.zeros(np.size(X, 1))\n",
    "        for i, product in enumerate(w.T @ X):\n",
    "            if product > 0:\n",
    "                result[i] = 1\n",
    "            elif product < 0:\n",
    "                result[i] = -1\n",
    "        return result\n",
    "\n",
    "    def score(self, X, y, w):\n",
    "        predicted = self.predict(w, X)\n",
    "        correct = 0\n",
    "        for i, sentiment in enumerate(y):\n",
    "            if predicted[i] == sentiment:\n",
    "                correct += 1\n",
    "\n",
    "        return (correct / len(y)) * 100\n",
    "\n",
    "    def _loss(self, X, y, w):\n",
    "        result = 0\n",
    "        for i in range(np.size(X, 1)):\n",
    "            result += max(0, 1 - y[i] * w.T @ X[:, i])\n",
    "        return 0.5 * pow(np.linalg.norm(w), 2) + result\n",
    "\n",
    "    def _compute_gradient(self, X, y, w, l):\n",
    "        sum = 0\n",
    "        for i in range(np.size(X, 1)):\n",
    "            if y[i] * w.T @ X[:, i] >= 1:\n",
    "                sum += 0\n",
    "            else:\n",
    "                sum += -y[i] * X[:, i]\n",
    "        return l * w + sum\n",
    "                \n"
   ]
  },
  {
   "cell_type": "code",
   "execution_count": null,
   "metadata": {},
   "outputs": [],
   "source": [
    "model = GDClassifier()\n",
    "model.fit(X, y)"
   ]
  },
  {
   "cell_type": "code",
   "execution_count": null,
   "metadata": {},
   "outputs": [],
   "source": []
  }
 ],
 "metadata": {
  "kernelspec": {
   "display_name": "Python 3",
   "language": "python",
   "name": "python3"
  },
  "language_info": {
   "codemirror_mode": {
    "name": "ipython",
    "version": 3
   },
   "file_extension": ".py",
   "mimetype": "text/x-python",
   "name": "python",
   "nbconvert_exporter": "python",
   "pygments_lexer": "ipython3",
   "version": "3.8.3"
  }
 },
 "nbformat": 4,
 "nbformat_minor": 1
}
