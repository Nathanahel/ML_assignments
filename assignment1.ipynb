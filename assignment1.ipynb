{
 "cells": [
  {
   "cell_type": "code",
   "execution_count": null,
   "metadata": {},
   "outputs": [],
   "source": [
    "import numpy as np\n",
    "import os\n",
    "import random"
   ]
  },
  {
   "cell_type": "code",
   "execution_count": null,
   "metadata": {},
   "outputs": [],
   "source": [
    "class BowVectorizer:\n",
    "    def __init__(self):\n",
    "        self._words_per_file = []\n",
    "        self.X = []\n",
    "        self.vocabulary = []\n",
    "\n",
    "    def fit(self, X_raw):\n",
    "        all_words = set()\n",
    "        for review in X_raw:\n",
    "            tokens = review.strip().split(\" \")\n",
    "            all_words.update(tokens)\n",
    "        self.vocabulary = sorted(list(all_words))\n",
    "        \n",
    "    def transform(self, X_raw):\n",
    "        count = 0\n",
    "        for review in X_raw:\n",
    "            vector = np.zeros(len(self.vocabulary))\n",
    "            tokens = review.strip().split(\" \")\n",
    "            for i, w in enumerate(self.vocabulary):\n",
    "                if w in set(tokens):\n",
    "                    vector[i] = 1\n",
    "            count += 1\n",
    "            self.X.append(vector)\n",
    "        return np.array(self.X).T"
   ]
  },
  {
   "cell_type": "code",
   "execution_count": null,
   "metadata": {},
   "outputs": [],
   "source": [
    "filepaths = []\n",
    "for root, dirs, files in os.walk(os.getcwd() + \"/review_polarity/txt_sentoken/\"):\n",
    "    for file in files:\n",
    "        if os.path.splitext(file)[1] == '.txt':\n",
    "            filepaths.append(os.path.join(root, file))\n",
    "random.shuffle(filepaths)\n",
    "\n",
    "X_raw = []\n",
    "y = []\n",
    "\n",
    "for filepath in filepaths:\n",
    "    if \"pos\" in filepath:\n",
    "        with open(filepath, \"r\") as f:\n",
    "            X_raw.append(f.read())\n",
    "        y.append(1)\n",
    "\n",
    "    if \"neg\" in filepath:\n",
    "        with open(filepath, \"r\") as f:\n",
    "            X_raw.append(f.read())\n",
    "        y.append(-1)\n",
    "\n",
    "vectorizer = BowVectorizer()\n",
    "vectorizer.fit(X_raw)\n",
    "X = vectorizer.transform(X_raw)"
   ]
  },
  {
   "cell_type": "code",
   "execution_count": null,
   "metadata": {},
   "outputs": [],
   "source": [
    "class GDClassifier:\n",
    "\n",
    "    def __init__(self, eta, alpha, epoch=100, batch=100):\n",
    "        self.eta = eta\n",
    "        self.epoch = epoch\n",
    "        self.batch = batch\n",
    "        self.alpha = alpha\n",
    "        self.w = np.random.normal(0, 0.1, (np.size(X, 0), 1)) # 56198, 1\n",
    "\n",
    "    def fit(self, X, y):\n",
    "        for i in range(self.epoch):            \n",
    "            for j in range(np.size(X, 1) // self.batch):\n",
    "                j_start = self.batch * j\n",
    "                j_end = self.batch * (j + 1)\n",
    "                X_batch = X[:, j_start:j_end] # 56198 * 100\n",
    "                y_batch = y[j_start:j_end] # 100\n",
    "\n",
    "                grad_w = self.compute_gradient(X_batch, y_batch, self.alpha)\n",
    "                self.w -= self.eta * grad_w\n",
    "\n",
    "    def predict(self, X):\n",
    "        result = np.zeros(np.size(X, 1))\n",
    "        for i, product in enumerate(np.dot(self.w.T, X).ravel()):\n",
    "            if product > 0:\n",
    "                result[i] = 1\n",
    "            elif product < 0:\n",
    "                result[i] = -1\n",
    "        return result\n",
    "\n",
    "    def score(self, X, y):\n",
    "        predicted = self.predict(X)\n",
    "        correct = 0\n",
    "        for i, sentiment in enumerate(y):\n",
    "            if predicted[i] == sentiment:\n",
    "                correct += 1\n",
    "        return correct * 100 / len(y)\n",
    "\n",
    "    def loss(self, X, y):\n",
    "        result = 0\n",
    "        for i in range(np.size(X, 1)): \n",
    "            Xi = X[:, i].reshape(np.size(X, 0) ,1)\n",
    "            result += max(0, 1 - y[i] * np.dot(self.w.T, Xi))\n",
    "        return 0.5 * self.alpha * pow(np.linalg.norm(self.w), 2) + result\n",
    "\n",
    "    def compute_gradient(self, X, y, l):\n",
    "        sum = np.zeros((np.size(X, 0), 1))\n",
    "        for i in range(np.size(X, 1)):\n",
    "            Xi = X[:, i].reshape(np.size(X, 0) ,1)\n",
    "            if y[i] * np.dot(self.w.T, Xi) >= 1:\n",
    "                pass\n",
    "            else:\n",
    "                sum += - y[i] * Xi\n",
    "        return l * self.w + sum"
   ]
  },
  {
   "cell_type": "code",
   "execution_count": null,
   "metadata": {},
   "outputs": [],
   "source": [
    "model = GDClassifier(eta=0.001, alpha=0.1)\n",
    "model.fit(X, y)\n",
    "omega = model.w.ravel()"
   ]
  },
  {
   "cell_type": "code",
   "execution_count": 76,
   "metadata": {},
   "outputs": [
    {
     "data": {
      "image/png": "[encoded data removed]",
      "text/plain": [
       "<Figure size 1440x288 with 1 Axes>"
      ]
     },
     "metadata": {
      "needs_background": "light"
     },
     "output_type": "display_data"
    }
   ],
   "source": [
    "import matplotlib.pyplot as plt\n",
    "\n",
    "plt.figure(figsize=(20, 4))\n",
    "plt.plot(omega)\n",
    "plt.xlabel(\"Value\")\n",
    "plt.xlabel(\"Weights\")\n",
    "plt.show()"
   ]
  },
  {
   "cell_type": "code",
   "execution_count": 81,
   "metadata": {},
   "outputs": [
    {
     "name": "stdout",
     "output_type": "stream",
     "text": [
      "                Word\tWeight\tOccurences\n",
      "               graft   -0.309\t3 \n",
      "               waste   -0.311\t246 \n",
      "                bink   -0.312\t11 \n",
      "              \n",
      "louis   0.312\t3 \n",
      "               flaws   0.313\t103 \n",
      "                fond   0.316\t61 \n",
      "             nothing   -0.317\t594 \n",
      "                mess   -0.318\t315 \n",
      "            go-round   0.321\t5 \n",
      "              others   0.321\t378 \n",
      "               purse   -0.321\t4 \n",
      "   fashion-conscious   -0.322\t1 \n",
      "          sensuality   0.322\t5 \n",
      "              earth-   -0.324\t9 \n",
      "        pseudo-asian   0.327\t1 \n",
      "              stupid   -0.328\t227 \n",
      "               \n",
      "bore   0.346\t4 \n",
      "               awful   -0.347\t156 \n",
      "                plot   -0.384\t1002 \n",
      "                 bad   -0.417\t825 \n"
     ]
    }
   ],
   "source": [
    "idx = np.argsort(np.abs(omega))\n",
    "\n",
    "print(\"                Word\\tWeight\\tOccurences\")\n",
    "for i in idx[-20:]:   # Pick those with highest 'voting' values\n",
    "    print(\"%20s   %.3f\\t%i \" % (vectorizer.vocabulary[i], omega[i], np.sum([vectorizer.vocabulary[i] in d for d in X_raw])))"
   ]
  },
  {
   "cell_type": "code",
   "execution_count": 56,
   "metadata": {},
   "outputs": [],
   "source": [
    "X_train = X[:, 0:int(np.size(X, 1) * 0.8)] # 56198 * 1600\n",
    "y_train = y[0:int(np.size(X, 1) * 0.8)] # 1600\n",
    "\n",
    "X_test = X[:, int(np.size(X, 1) * 0.8):] # 56198 * 400\n",
    "y_test = y[int(np.size(X, 1) * 0.8):] # 400"
   ]
  },
  {
   "cell_type": "code",
   "execution_count": 96,
   "metadata": {},
   "outputs": [
    {
     "name": "stdout",
     "output_type": "stream",
     "text": [
      "Learning rate:\tReg.dampening:\tTraining set accuracy:\n",
      "0.09655\t\t0.09655\t\t99.69%\n",
      "0.03071\t\t0.00977\t\t100.00%\n",
      "0.00031\t\t0.00031\t\t100.00%\n",
      "0.00010\t\t3.00000\t\t98.19%\n",
      "0.95425\t\t0.95425\t\t49.88%\n",
      "0.30353\t\t0.00010\t\t100.00%\n",
      "3.00000\t\t0.03071\t\t50.12%\n",
      "0.00311\t\t0.00099\t\t100.00%\n",
      "0.00977\t\t0.30353\t\t99.94%\n",
      "0.00099\t\t0.00311\t\t100.00%\n",
      "Best parameters: 0.03071, 0.00977\n"
     ]
    }
   ],
   "source": [
    "parameter_distribution = {'learning_rate': np.random.permutation(np.exp(np.linspace(np.log(0.0001), np.log(3), 10))),\n",
    "                          'reguliser_dampening': np.random.permutation(np.exp(np.linspace(np.log(0.0001), np.log(3), 10)))}\n",
    "\n",
    "best_params = {}\n",
    "\n",
    "print(\"Learning rate:\\tReg.dampening:\\tTraining set accuracy:\")\n",
    "\n",
    "for i, lea_ra in enumerate(parameter_distribution[\"learning_rate\"]):\n",
    "    reg_damp = parameter_distribution[\"reguliser_dampening\"][i]\n",
    "    model = GDClassifier(eta=lea_ra, alpha=reg_damp)\n",
    "    model.fit(X_train, y_train)\n",
    "    training_accuracy = model.score(X_train, y_train)\n",
    "    best_params[(lea_ra, reg_damp)] = training_accuracy\n",
    "    print(\"%.5f\\t\\t%.5f\\t\\t%.2f%%\" % (lea_ra, reg_damp, training_accuracy))\n",
    "    \n",
    "best_parameters = sorted(best_params.items(), key=lambda d:d[1], reverse=True)[0][0]\n",
    "best_learning_rate = best_parameters[0]\n",
    "best_reguliser_dampening = best_parameters[1]\n",
    "print(\"Best parameters: %.5f, %.5f\" % (best_learning_rate, best_reguliser_dampening))"
   ]
  },
  {
   "cell_type": "code",
   "execution_count": 97,
   "metadata": {},
   "outputs": [
    {
     "name": "stdout",
     "output_type": "stream",
     "text": [
      "Test set accuracy 85.00%\n"
     ]
    }
   ],
   "source": [
    "model = GDClassifier(eta=best_learning_rate, alpha=best_reguliser_dampening)\n",
    "model.fit(X_train, y_train)\n",
    "test_acc = model.score(X_test, y_test)\n",
    "print(\"Test set accuracy %.2f%%\" % test_acc)"
   ]
  },
  {
   "cell_type": "markdown",
   "metadata": {},
   "source": [
    "Short Report:\n",
    "\n",
    "    The file paths were written in and stored in a list. It was shuffled for the convenience of splitting the data randomly later.\n",
    "    \n",
    "    Tokenization was done by splitting the white spaces with the purpose of making the time complexity quadratic instead of cubic. And the vector generation process took about 20 minutes.\n",
    "    \n",
    "    The model uses a batch gradient descent with batch size 100, so that the gradient updates every 100 data points. The default epoch was set to 100. The training process stops if the loss keeps decreasing by less than 0.001 (converge) or going up (diverge) for 5 times summed up.\n",
    "    \n",
    "    We can see that words like \"bad, awful, stupid, nothing, mess\" contribute to a negative label very much, and words like \"flaws, fond, fun\" contribute to a positive label very much. Because these words appears frequently (from 200 times to around 1000 times) in the reviews that are labeled as negative or positive respectively.\n",
    "    \n",
    "    The hyperparameters are generated randomly from an exponentially spaced grid where each of the values is about 3 times as large as the previous one. Then the learning rate and reguliser dampening were picked randomly from the grid. From the training result, we can see that the training accuracy is the best when learning rate being 0.03071 and reguliser dampening being 0.00977. And the corresponding test set accuracy is 85%. It is a bit weird to see the training accuracy being 100% at first, but since it is just a binary classification problem and the training set is small, this could happen."
   ]
  }
 ],
 "metadata": {
  "kernelspec": {
   "display_name": "Python 3",
   "language": "python",
   "name": "python3"
  },
  "language_info": {
   "codemirror_mode": {
    "name": "ipython",
    "version": 3
   },
   "file_extension": ".py",
   "mimetype": "text/x-python",
   "name": "python",
   "nbconvert_exporter": "python",
   "pygments_lexer": "ipython3",
   "version": "3.8.3"
  }
 },
 "nbformat": 4,
 "nbformat_minor": 1
}